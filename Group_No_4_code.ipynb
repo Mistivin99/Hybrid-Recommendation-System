{
  "nbformat": 4,
  "nbformat_minor": 0,
  "metadata": {
    "colab": {
      "provenance": []
    },
    "kernelspec": {
      "name": "python3",
      "display_name": "Python 3"
    },
    "language_info": {
      "name": "python"
    }
  },
  "cells": [
    {
      "cell_type": "code",
      "source": [
        "DATASET_LINK='http://files.grouplens.org/datasets/movielens/ml-100k.zip'"
      ],
      "metadata": {
        "id": "lWgl00tf22ar"
      },
      "execution_count": null,
      "outputs": []
    },
    {
      "cell_type": "code",
      "source": [
        "!wget -nc http://files.grouplens.org/datasets/movielens/ml-100k.zip\n",
        "!unzip -n ml-100k.zip"
      ],
      "metadata": {
        "colab": {
          "base_uri": "https://localhost:8080/"
        },
        "id": "4R6n-Yh726Co",
        "outputId": "27ab44dd-b6d4-4a8a-c270-a0bc2a673564"
      },
      "execution_count": null,
      "outputs": [
        {
          "output_type": "stream",
          "name": "stdout",
          "text": [
            "File ‘ml-100k.zip’ already there; not retrieving.\n",
            "\n",
            "Archive:  ml-100k.zip\n"
          ]
        }
      ]
    },
    {
      "cell_type": "markdown",
      "source": [
        "**EDA**"
      ],
      "metadata": {
        "id": "hUnybVE2TKdy"
      }
    },
    {
      "cell_type": "code",
      "source": [
        "# Import necessary libraries\n",
        "import numpy as np\n",
        "import pandas as pd\n",
        "import re\n",
        "import matplotlib.pyplot as plt\n",
        "import seaborn as sns\n",
        "\n",
        "# Read users data\n",
        "user_columns = ['user_id', 'age', 'sex', 'occupation', 'zip_code']\n",
        "users_df = pd.read_csv('ml-100k/u.user', sep='|', names=user_columns)\n",
        "\n",
        "# Read ratings data\n",
        "ratings_columns = ['user_id', 'movie_id', 'rating', 'unix_timestamp']\n",
        "ratings_df = pd.read_csv('ml-100k/u.data', sep='\\t', names=ratings_columns)\n",
        "ratings_df.drop(\"unix_timestamp\", inplace=True, axis=1)\n",
        "\n",
        "# Read and clean movie data\n",
        "def clean_title(title):\n",
        "    return re.sub(\"[\\(\\[].*?[\\)\\]]\", \"\", title)\n",
        "\n",
        "def process_genre(series):\n",
        "    genres = series.index[6:-2]\n",
        "\n",
        "    text = []\n",
        "    for i in genres:\n",
        "        if series[i] == 1:\n",
        "            text.append(i)\n",
        "            break\n",
        "    return \", \".join(text)\n",
        "\n",
        "# Read genres\n",
        "genre_df = pd.read_csv('ml-100k/u.genre', sep='|', encoding='latin-1')\n",
        "genre_columns = [\"unknown\"] + list(genre_df[genre_df.columns[0]].values)\n",
        "\n",
        "# Display the genre columns\n",
        "print(genre_columns)\n",
        "\n",
        "# Read movies data\n",
        "movie_columns = ['movie_id', 'title', 'release_date', 'video_release_date', 'imdb_url']\n",
        "movies_df = pd.read_csv('ml-100k/u.item', sep='|', names=movie_columns + genre_columns, encoding='latin-1')\n",
        "\n",
        "# Remove the issuing date from the movie title\n",
        "movies_df['title'] = movies_df['title'].apply(clean_title)\n",
        "movies_df['title'] = movies_df['title'].str.strip()\n",
        "\n",
        "# Create a new column 'genre' by concatenating genres\n",
        "movies_df['genre'] = movies_df.apply(process_genre, axis=1)\n",
        "\n",
        "# Create a copy of the movie dataset and drop unnecessary columns\n",
        "movies_red_df = movies_df.copy()\n",
        "movies_red_df.drop(movies_red_df.columns[[2, 3, 4]], inplace=True, axis=1)\n",
        "movies_red_df.drop(genre_columns, axis=1, inplace=True)\n",
        "\n",
        "# Display the modified movie dataset\n",
        "print(movies_red_df.head(5))\n",
        "\n",
        "# Display the number of users, movies, and ratings\n",
        "print(\"Users:\", users_df.user_id.nunique())\n",
        "print(\"Movies:\", movies_df.movie_id.nunique())\n",
        "print(\"Movies with ratings:\", ratings_df.movie_id.nunique())\n",
        "print(\"Users with ratings:\", ratings_df.user_id.nunique())\n",
        "print(\"Ratings:\", ratings_df.shape[0])\n",
        "\n",
        "# Plot users distribution by sex\n",
        "sns.set(style=\"whitegrid\")\n",
        "plt.figure(figsize=(10, 6))\n",
        "sns.countplot(x=\"sex\", data=users_df, palette=\"Set2\")\n",
        "plt.title(\"Distribution of Users by Sex\")\n",
        "plt.show()\n",
        "\n",
        "# Plot users age distribution grouped by sex\n",
        "plt.figure(figsize=(12, 6))\n",
        "sns.kdeplot(data=users_df, x=\"age\", hue=\"sex\", fill=True, palette=\"husl\", common_norm=False)\n",
        "plt.title(\"Users Age Distribution Grouped by Sex\")\n",
        "plt.show()\n",
        "\n",
        "# Plot top 20 users' occupations\n",
        "plt.figure(figsize=(14, 6))\n",
        "sns.countplot(x=\"occupation\", data=users_df, order=users_df['occupation'].value_counts().index[:20], palette=\"viridis\")\n",
        "plt.title(\"Top 20 User Occupations\")\n",
        "plt.xticks(rotation=45, ha=\"right\")\n",
        "plt.show()\n",
        "\n",
        "# Display the number of unique occupations\n",
        "print(\"Number of Occupations:\", users_df.occupation.nunique())\n",
        "\n",
        "# Plot users age distribution grouped by occupation\n",
        "plt.figure(figsize=(14, 8))\n",
        "sns.kdeplot(data=users_df, x=\"age\", hue=\"occupation\", fill=True, palette=\"Paired\", common_norm=False, levels=20)\n",
        "plt.title(\"Users Age Distribution Grouped by Occupation\")\n",
        "plt.show()\n",
        "\n",
        "# Plot ratings distribution\n",
        "plt.figure(figsize=(8, 6))\n",
        "sns.countplot(x=\"rating\", data=ratings_df, palette=\"coolwarm\")\n",
        "plt.title(\"Distribution of Ratings\")\n",
        "plt.show()\n",
        "\n",
        "# Merge movies and ratings datasets\n",
        "movie_ratings_df = movies_df.merge(ratings_df, on=\"movie_id\", how=\"inner\")\n",
        "\n",
        "# Plot ratings per movie title (top 20 movies)\n",
        "plt.figure(figsize=(14, 8))\n",
        "sns.countplot(y=\"title\", data=movie_ratings_df, order=movie_ratings_df['title'].value_counts().index[:20], palette=\"Set3\")\n",
        "plt.title(\"Ratings per Movie Title (Top 20 Movies)\")\n",
        "plt.show()\n",
        "\n",
        "# Display movies with the best ratings\n",
        "best_rated_movies = movie_ratings_df.sort_values(by=\"rating\", ascending=False)[[\"title\", \"release_date\", \"genre\", \"rating\"]].head(10)\n",
        "print(\"Movies with Best Ratings:\")\n",
        "print(best_rated_movies)\n",
        "\n",
        "# Count how many ratings each movie has\n",
        "movie_ratings_agg_df = movie_ratings_df.groupby([\"title\"])[\"rating\"].count().reset_index()\n",
        "movie_ratings_agg_df.columns = [\"title\", \"ratings_number\"]\n",
        "\n",
        "# Display movies with the most ratings\n",
        "print(\"Movies with Most Ratings:\")\n",
        "print(movie_ratings_agg_df.sort_values(by=\"ratings_number\", ascending=False).head(10))\n",
        "\n",
        "# Merge the result back to the dataset\n",
        "movie_ratings_df = movie_ratings_df.merge(movie_ratings_agg_df, on=\"title\")\n",
        "\n",
        "# Group by title and ratings_number, calculate mean of ratings\n",
        "movie_ratings_agg_df = movie_ratings_df.groupby([\"title\", \"ratings_number\"])[\"rating\"].mean().reset_index()\n",
        "movie_ratings_agg_df.columns = [\"title\", \"ratings_number\", \"ratings_mean\"]\n",
        "\n",
        "# Display movies with the best average ratings\n",
        "print(\"Movies with Best Average Ratings:\")\n",
        "print(movie_ratings_agg_df.sort_values(by=\"ratings_mean\", ascending=False).head(10))\n",
        "\n",
        "# Select only movies with more than 400 ratings\n",
        "sel_movie_ratings_df = movie_ratings_df.loc[movie_ratings_df.ratings_number > 400]\n",
        "\n",
        "# Group by title and ratings_number, calculate mean of ratings\n",
        "sel_movie_ratings_agg_df = sel_movie_ratings_df.groupby([\"title\", \"ratings_number\"])[\"rating\"].mean().reset_index()\n",
        "sel_movie_ratings_agg_df.columns = [\"title\", \"ratings_number\", \"ratings_mean\"]\n",
        "\n",
        "# Display top movies with the best average ratings (more than 400 ratings)\n",
        "print(\"Top Movies with Best Average Ratings (More than 400 Ratings):\")\n",
        "print(sel_movie_ratings_agg_df.sort_values(by=\"ratings_mean\", ascending=False).head(10))\n",
        "\n",
        "# Plot ratings number and ratings mean distribution (100K ratings)\n",
        "plt.figure(figsize=(10, 8))\n",
        "sns.kdeplot(data=movie_ratings_agg_df, x=\"ratings_number\", y=\"ratings_mean\", fill=True, cmap=\"YlGnBu\", levels=20)\n",
        "plt.title(\"Ratings Number and Ratings Mean Distribution (100K Ratings)\")\n",
        "plt.show()\n",
        "\n",
        "# Plot ratings number and ratings mean distribution (only movies with more than 400 ratings)\n",
        "plt.figure(figsize=(10, 8))\n",
        "sns.kdeplot(data=sel_movie_ratings_agg_df, x=\"ratings_number\", y=\"ratings_mean\", fill=True, cmap=\"YlGnBu\", levels=20)\n",
        "plt.title(\"Ratings Number and Ratings Mean Distribution (Movies with More than 400 Ratings)\")\n",
        "plt.show()\n",
        "\n",
        "# Plot movies genre distribution\n",
        "plt.figure(figsize=(14, 8))\n",
        "sns.countplot(y=\"genre\", data=movies_df, order=movies_df['genre'].value_counts().index, palette=\"viridis\")\n",
        "plt.title(\"Movies Genre Distribution (from 1682 Movies)\")\n",
        "plt.show()\n",
        "\n",
        "# Count ratings for each genre\n",
        "genre_ratings_agg_df = movie_ratings_df.groupby([\"genre\"])[\"rating\"].count().reset_index()\n",
        "genre_ratings_agg_df.columns = [\"genre\", \"ratings_number\"]\n",
        "\n",
        "# Display genre with most ratings\n",
        "print(\"Genre with Most Ratings:\")\n",
        "print(genre_ratings_agg_df.sort_values(by=\"ratings_number\", ascending=False).head(10))\n",
        "\n",
        "# Plot ratings per movie genre (100K ratings)\n",
        "plt.figure(figsize=(14, 6))\n",
        "sns.barplot(x=\"ratings_number\", y=\"genre\", data=genre_ratings_agg_df, palette=\"plasma\")\n",
        "plt.title(\"Ratings per Movie Genre (100K Ratings)\")\n",
        "plt.show()\n",
        "\n",
        "# Calculate average ratings for each genre\n",
        "genre_ratings_mean_df = movie_ratings_df.groupby([\"genre\"])[\"rating\"].mean().reset_index()\n",
        "genre_ratings_mean_df.columns = [\"genre\", \"ratings_average\"]\n",
        "\n",
        "# Display genre with highest mean ratings\n",
        "print(\"Genre with Highest (Mean) Ratings:\")\n",
        "print(genre_ratings_mean_df.sort_values(by=\"ratings_average\", ascending=False))\n",
        "\n",
        "# Plot movie ratings average, grouped by genre (100K ratings)\n",
        "plt.figure(figsize=(14, 6))\n",
        "sns.barplot(x=\"ratings_average\", y=\"genre\", data=genre_ratings_mean_df, palette=\"plasma\")\n",
        "plt.title(\"Movie Ratings Average, Grouped by Genre (100K Ratings)\")\n",
        "plt.show()\n"
      ],
      "metadata": {
        "id": "5kwbEHJVOMET"
      },
      "execution_count": null,
      "outputs": []
    },
    {
      "cell_type": "markdown",
      "source": [
        "**KNN**"
      ],
      "metadata": {
        "id": "CGssOIr3TWm8"
      }
    },
    {
      "cell_type": "code",
      "source": [
        "import collections\n",
        "import numpy as np\n",
        "import pandas as pd\n",
        "from sklearn.neighbors import NearestNeighbors\n",
        "from sklearn.impute import KNNImputer\n",
        "from sklearn.metrics import mean_absolute_error, mean_squared_error\n",
        "from sklearn.metrics import pairwise_distances"
      ],
      "metadata": {
        "id": "YN52eEC2AjIc"
      },
      "execution_count": null,
      "outputs": []
    },
    {
      "cell_type": "code",
      "source": [
        "film = pd.read_csv('ml-100k/u.item', sep='|', encoding='ISO-8859-1')\n"
      ],
      "metadata": {
        "id": "JgUt1hjkA3hG"
      },
      "execution_count": null,
      "outputs": []
    },
    {
      "cell_type": "code",
      "source": [
        "film.columns = ['filmId', 'title', 'release date', 'video release date',\n",
        "                'IMDb URL', 'unknown', 'Action', 'Adventure', 'Animation',\n",
        "                'Children\\'s', 'Comedy', 'Crime', 'Documentary', 'Drama',\n",
        "                'Fantasy', 'Film-Noir', 'Horror', 'Musical', 'Mystery', 'Romance',\n",
        "                'Sci-Fi', 'Thriller', 'War', 'Western']\n",
        "columns = ['release date', 'video release date',\n",
        "           'IMDb URL', 'unknown', 'Action', 'Adventure', 'Animation',\n",
        "           'Children\\'s', 'Comedy', 'Crime', 'Documentary', 'Drama',\n",
        "           'Fantasy', 'Film-Noir', 'Horror', 'Musical', 'Mystery', 'Romance',\n",
        "           'Sci-Fi', 'Thriller', 'War', 'Western']"
      ],
      "metadata": {
        "id": "_vTBlXwQBkaJ"
      },
      "execution_count": null,
      "outputs": []
    },
    {
      "cell_type": "code",
      "source": [
        "film = film.drop(columns, axis=1)"
      ],
      "metadata": {
        "id": "OPgDO-9oBm4C"
      },
      "execution_count": null,
      "outputs": []
    },
    {
      "cell_type": "code",
      "source": [
        "rating = pd.read_csv('ml-100k/u1.base', sep='\\t', encoding='ISO-8859-1')\n",
        "rating.columns = ['userId', 'filmId', 'rating', 'timestamp']\n",
        "rating = rating.drop(['timestamp'], axis=1)"
      ],
      "metadata": {
        "id": "aoWVi5s3Buxy"
      },
      "execution_count": null,
      "outputs": []
    },
    {
      "cell_type": "code",
      "source": [
        "# Create a nested dictionary of each user with the filmIds and the ratings they provided\n",
        "watched = collections.defaultdict(dict)\n",
        "for i in rating.values.tolist():\n",
        "    watched[i[0]][i[1]] = i[2]"
      ],
      "metadata": {
        "id": "nSiXHixoB52t"
      },
      "execution_count": null,
      "outputs": []
    },
    {
      "cell_type": "code",
      "source": [
        "#Create a pivot table with index as userId, columns as filmId, values as rating\n",
        "rating_pivot = rating.pivot(index='userId', columns='filmId', values='rating').fillna(0)"
      ],
      "metadata": {
        "id": "lC8PMbaDB595"
      },
      "execution_count": null,
      "outputs": []
    },
    {
      "cell_type": "code",
      "source": [
        "# Convert the pivot table into a dense numpy array\n",
        "rating_matrix = rating_pivot.values"
      ],
      "metadata": {
        "id": "0Vd-BRNJCDsH"
      },
      "execution_count": null,
      "outputs": []
    },
    {
      "cell_type": "code",
      "source": [
        "# Use Nearest Neighbors to find similar users\n",
        "k_neighbors = 70\n",
        "knn_users = NearestNeighbors(n_neighbors=k_neighbors, metric='cosine')\n",
        "knn_users.fit(rating_matrix)"
      ],
      "metadata": {
        "id": "LzAsIN9wCFmJ",
        "outputId": "6a5186b8-c4f8-4485-e4d4-1774b7a5206a",
        "colab": {
          "base_uri": "https://localhost:8080/",
          "height": 75
        }
      },
      "execution_count": null,
      "outputs": [
        {
          "output_type": "execute_result",
          "data": {
            "text/plain": [
              "NearestNeighbors(metric='cosine', n_neighbors=70)"
            ],
            "text/html": [
              "<style>#sk-container-id-3 {color: black;background-color: white;}#sk-container-id-3 pre{padding: 0;}#sk-container-id-3 div.sk-toggleable {background-color: white;}#sk-container-id-3 label.sk-toggleable__label {cursor: pointer;display: block;width: 100%;margin-bottom: 0;padding: 0.3em;box-sizing: border-box;text-align: center;}#sk-container-id-3 label.sk-toggleable__label-arrow:before {content: \"▸\";float: left;margin-right: 0.25em;color: #696969;}#sk-container-id-3 label.sk-toggleable__label-arrow:hover:before {color: black;}#sk-container-id-3 div.sk-estimator:hover label.sk-toggleable__label-arrow:before {color: black;}#sk-container-id-3 div.sk-toggleable__content {max-height: 0;max-width: 0;overflow: hidden;text-align: left;background-color: #f0f8ff;}#sk-container-id-3 div.sk-toggleable__content pre {margin: 0.2em;color: black;border-radius: 0.25em;background-color: #f0f8ff;}#sk-container-id-3 input.sk-toggleable__control:checked~div.sk-toggleable__content {max-height: 200px;max-width: 100%;overflow: auto;}#sk-container-id-3 input.sk-toggleable__control:checked~label.sk-toggleable__label-arrow:before {content: \"▾\";}#sk-container-id-3 div.sk-estimator input.sk-toggleable__control:checked~label.sk-toggleable__label {background-color: #d4ebff;}#sk-container-id-3 div.sk-label input.sk-toggleable__control:checked~label.sk-toggleable__label {background-color: #d4ebff;}#sk-container-id-3 input.sk-hidden--visually {border: 0;clip: rect(1px 1px 1px 1px);clip: rect(1px, 1px, 1px, 1px);height: 1px;margin: -1px;overflow: hidden;padding: 0;position: absolute;width: 1px;}#sk-container-id-3 div.sk-estimator {font-family: monospace;background-color: #f0f8ff;border: 1px dotted black;border-radius: 0.25em;box-sizing: border-box;margin-bottom: 0.5em;}#sk-container-id-3 div.sk-estimator:hover {background-color: #d4ebff;}#sk-container-id-3 div.sk-parallel-item::after {content: \"\";width: 100%;border-bottom: 1px solid gray;flex-grow: 1;}#sk-container-id-3 div.sk-label:hover label.sk-toggleable__label {background-color: #d4ebff;}#sk-container-id-3 div.sk-serial::before {content: \"\";position: absolute;border-left: 1px solid gray;box-sizing: border-box;top: 0;bottom: 0;left: 50%;z-index: 0;}#sk-container-id-3 div.sk-serial {display: flex;flex-direction: column;align-items: center;background-color: white;padding-right: 0.2em;padding-left: 0.2em;position: relative;}#sk-container-id-3 div.sk-item {position: relative;z-index: 1;}#sk-container-id-3 div.sk-parallel {display: flex;align-items: stretch;justify-content: center;background-color: white;position: relative;}#sk-container-id-3 div.sk-item::before, #sk-container-id-3 div.sk-parallel-item::before {content: \"\";position: absolute;border-left: 1px solid gray;box-sizing: border-box;top: 0;bottom: 0;left: 50%;z-index: -1;}#sk-container-id-3 div.sk-parallel-item {display: flex;flex-direction: column;z-index: 1;position: relative;background-color: white;}#sk-container-id-3 div.sk-parallel-item:first-child::after {align-self: flex-end;width: 50%;}#sk-container-id-3 div.sk-parallel-item:last-child::after {align-self: flex-start;width: 50%;}#sk-container-id-3 div.sk-parallel-item:only-child::after {width: 0;}#sk-container-id-3 div.sk-dashed-wrapped {border: 1px dashed gray;margin: 0 0.4em 0.5em 0.4em;box-sizing: border-box;padding-bottom: 0.4em;background-color: white;}#sk-container-id-3 div.sk-label label {font-family: monospace;font-weight: bold;display: inline-block;line-height: 1.2em;}#sk-container-id-3 div.sk-label-container {text-align: center;}#sk-container-id-3 div.sk-container {/* jupyter's `normalize.less` sets `[hidden] { display: none; }` but bootstrap.min.css set `[hidden] { display: none !important; }` so we also need the `!important` here to be able to override the default hidden behavior on the sphinx rendered scikit-learn.org. See: https://github.com/scikit-learn/scikit-learn/issues/21755 */display: inline-block !important;position: relative;}#sk-container-id-3 div.sk-text-repr-fallback {display: none;}</style><div id=\"sk-container-id-3\" class=\"sk-top-container\"><div class=\"sk-text-repr-fallback\"><pre>NearestNeighbors(metric=&#x27;cosine&#x27;, n_neighbors=70)</pre><b>In a Jupyter environment, please rerun this cell to show the HTML representation or trust the notebook. <br />On GitHub, the HTML representation is unable to render, please try loading this page with nbviewer.org.</b></div><div class=\"sk-container\" hidden><div class=\"sk-item\"><div class=\"sk-estimator sk-toggleable\"><input class=\"sk-toggleable__control sk-hidden--visually\" id=\"sk-estimator-id-3\" type=\"checkbox\" checked><label for=\"sk-estimator-id-3\" class=\"sk-toggleable__label sk-toggleable__label-arrow\">NearestNeighbors</label><div class=\"sk-toggleable__content\"><pre>NearestNeighbors(metric=&#x27;cosine&#x27;, n_neighbors=70)</pre></div></div></div></div></div>"
            ]
          },
          "metadata": {},
          "execution_count": 57
        }
      ]
    },
    {
      "cell_type": "code",
      "source": [
        "# Get similarity matrix for users\n",
        "user_similarity_matrix = 1 - pairwise_distances(rating_matrix, metric='cosine')"
      ],
      "metadata": {
        "id": "rfja_vkXCHjL"
      },
      "execution_count": null,
      "outputs": []
    },
    {
      "cell_type": "code",
      "source": [
        "# Use KNNImputer with 'nan_euclidean' metric on the similarity matrix\n",
        "knn_imputer = KNNImputer(n_neighbors=5, metric='nan_euclidean')\n",
        "imputed_similarity_matrix = knn_imputer.fit_transform(user_similarity_matrix)\n"
      ],
      "metadata": {
        "id": "r5F1vmPMCJ5-"
      },
      "execution_count": null,
      "outputs": []
    },
    {
      "cell_type": "code",
      "source": [
        "# Extract imputed values for user pairs present in u1.test\n",
        "imputed_ratings = []\n",
        "for i in rating.values.tolist():\n",
        "    user1, user2 = i[0], i[1]\n",
        "    if user1 < rating_matrix.shape[0] and user2 < rating_matrix.shape[0]:\n",
        "        imputed_ratings.append(imputed_similarity_matrix[user1, user2])\n"
      ],
      "metadata": {
        "id": "RRF5SGWDCL2R"
      },
      "execution_count": null,
      "outputs": []
    },
    {
      "cell_type": "code",
      "source": [
        "# Convert imputed ratings to numpy array for comparison\n",
        "imputed_ratings = np.array(imputed_ratings)"
      ],
      "metadata": {
        "id": "gudCfu6uCL-9"
      },
      "execution_count": null,
      "outputs": []
    },
    {
      "cell_type": "code",
      "source": [
        "# Calculate evaluation metrics\n",
        "mae_knn = mean_absolute_error(rating['rating'][:len(imputed_ratings)], imputed_ratings)\n",
        "rmse_knn = np.sqrt(mean_squared_error(rating['rating'][:len(imputed_ratings)], imputed_ratings))"
      ],
      "metadata": {
        "id": "KNY1PBc6CHo9"
      },
      "execution_count": null,
      "outputs": []
    },
    {
      "cell_type": "code",
      "source": [
        "print('Mean Absolute Error (MAE) using KNN: {:.2f}'.format(mae_knn))\n",
        "print('Root Mean Squared Error (RMSE) using KNN : {:.2f}'.format(rmse_knn))"
      ],
      "metadata": {
        "id": "8li1dM4OCU52",
        "outputId": "eea78091-750c-4416-bcf5-d234093041d3",
        "colab": {
          "base_uri": "https://localhost:8080/"
        }
      },
      "execution_count": null,
      "outputs": [
        {
          "output_type": "stream",
          "name": "stdout",
          "text": [
            "Mean Absolute Error (MAE) using KNN: 3.39\n",
            "Root Mean Squared Error (RMSE) using KNN : 3.57\n"
          ]
        }
      ]
    },
    {
      "cell_type": "markdown",
      "source": [
        "**K-DENSEST KNN**"
      ],
      "metadata": {
        "id": "gYSEvVRpThdY"
      }
    },
    {
      "cell_type": "code",
      "source": [
        "import collections\n",
        "import numpy as np\n",
        "import pandas as pd\n",
        "from scipy.sparse import csr_matrix\n",
        "from sklearn.neighbors import NearestNeighbors\n",
        "from sklearn.metrics import mean_absolute_error, mean_squared_error\n",
        "import math"
      ],
      "metadata": {
        "id": "85GHNzKJCi-7"
      },
      "execution_count": null,
      "outputs": []
    },
    {
      "cell_type": "code",
      "source": [
        "# Load relevant files into DataFrame\n",
        "movie = pd.read_csv('ml-100k/u.item', sep='|', encoding='ISO-8859-1')\n",
        "movie.columns = ['filmId', 'title', 'release date', 'video release date',\n",
        "                'IMDb URL', 'unknown', 'Action', 'Adventure', 'Animation',\n",
        "                'Children\\'s', 'Comedy', 'Crime', 'Documentary', 'Drama',\n",
        "                'Fantasy', 'Film-Noir', 'Horror', 'Musical', 'Mystery', 'Romance',\n",
        "                'Sci-Fi', 'Thriller', 'War', 'Western']\n",
        "columns = ['release date', 'video release date',\n",
        "           'IMDb URL', 'unknown', 'Action', 'Adventure', 'Animation',\n",
        "           'Children\\'s', 'Comedy', 'Crime', 'Documentary', 'Drama',\n",
        "           'Fantasy', 'Film-Noir', 'Horror', 'Musical', 'Mystery', 'Romance',\n",
        "           'Sci-Fi', 'Thriller', 'War', 'Western']\n",
        "movie = movie.drop(columns, axis=1)\n",
        "\n",
        "rating2 = pd.read_csv('ml-100k/u1.test', sep='\\t', encoding='ISO-8859-1')\n",
        "rating2.columns = ['userId', 'filmId', 'rating', 'timestamp']\n",
        "rating2 = rating2.drop(['timestamp'], axis=1)\n",
        "\n",
        "# Created a nested dictionary of each user with the filmIds and the ratings they provided\n",
        "watched = collections.defaultdict(dict)\n",
        "for i in rating2.values.tolist():\n",
        "    watched[i[0]][i[1]] = i[2]\n",
        "\n",
        "# Create a pivot table with index as userId, columns as filmId, values as rating\n",
        "rating_pivot2 = rating2.pivot(index='userId', columns='filmId',\n",
        "                            values='rating').fillna(0)\n",
        "# Convert the pivot table into a sparse matrix\n",
        "rating_matrix2 = csr_matrix(rating_pivot2.values)\n",
        "\n",
        "# Initialize k nearest neighbors\n",
        "knn2 = NearestNeighbors(metric='cosine', algorithm='brute')\n",
        "knn2.fit(rating_matrix2)\n",
        "\n",
        "# Change k to 70\n",
        "k = 70\n",
        "\n",
        "# Get 70-densest users\n",
        "grouped = rating2.groupby('userId')['rating'].count().reset_index()\n",
        "grouped.columns = ['userId', 'Density']\n",
        "densest_users = grouped.sort_values(by='Density', ascending=False).head(k)\n",
        "\n",
        "# Initialize variables for imputed matrix\n",
        "imputed_matrix2 = np.zeros_like(rating_matrix2.toarray())\n",
        "\n",
        "for user_id in densest_users['userId']:\n",
        "    # Find nearest neighbors for each user\n",
        "    user_index = user_id - 1\n",
        "\n",
        "    # Find 17 nearest neighbors\n",
        "    distances, indices = knn2.kneighbors(rating_pivot2.iloc[user_index, :].values.reshape(1, -1), n_neighbors=17)\n",
        "\n",
        "    # Impute values for unwatched films\n",
        "    for i in range(len(indices.flatten())):\n",
        "        neighbor_index = indices.flatten()[i]\n",
        "        imputed_matrix2[user_index, :] += rating_matrix2.toarray()[neighbor_index, :] * distances.flatten()[i]\n",
        "\n",
        "# Check for NaN values and normalize only if the sum is non-zero\n",
        "for i in range(imputed_matrix2.shape[0]):\n",
        "    if np.sum(np.abs(imputed_matrix2[i, :])) != 0:\n",
        "        imputed_matrix2[i, :] /= np.sum(np.abs(imputed_matrix2[i, :]))\n",
        "\n",
        "# Calculate evaluation metrics\n",
        "MAE_KDI = mean_absolute_error(rating_matrix2.toarray(), imputed_matrix2)\n",
        "RSME_KDI = math.sqrt(mean_squared_error(rating_matrix2.toarray(), imputed_matrix2))\n",
        "\n",
        "print('Mean Absolute Error (MAE) using K-Densest KNN: {:.2f}'.format(MAE_KDI))\n",
        "print('Root Mean Squared Error (RMSE) using K-Densest KNN: {:.2f}'.format(RSME_KDI))\n"
      ],
      "metadata": {
        "id": "gU2QZ8rTEEvw",
        "colab": {
          "base_uri": "https://localhost:8080/"
        },
        "outputId": "4fa2c568-f3a6-4178-bad7-c83ffecbd6ef"
      },
      "execution_count": null,
      "outputs": [
        {
          "output_type": "stream",
          "name": "stdout",
          "text": [
            "Mean Absolute Error (MAE) using K-Densest KNN: 0.11\n",
            "Root Mean Squared Error (RMSE) using K-Densest KNN: 0.65\n"
          ]
        }
      ]
    },
    {
      "cell_type": "markdown",
      "source": [
        "**GA**"
      ],
      "metadata": {
        "id": "jcoydok2TxhD"
      }
    },
    {
      "cell_type": "code",
      "source": [
        "\"\"\"Settings file for the project.\"\"\"\n",
        "\n",
        "# Constants\n",
        "NO_OF_FEATURES = 21\n",
        "NO_OF_GENRES = 19"
      ],
      "metadata": {
        "id": "hYAxwqrQ1K4w"
      },
      "execution_count": null,
      "outputs": []
    },
    {
      "cell_type": "code",
      "source": [
        "import pandas as pd\n",
        "\n",
        "# Load users\n",
        "u_cols = ['user_id', 'age', 'sex', 'occupation', 'zip_code']\n",
        "users = pd.read_csv('ml-100k/u.user', sep='|', names=u_cols, encoding='latin-1')\n",
        "\n",
        "# Load ratings\n",
        "r_cols = ['user_id', 'movie_id', 'rating', 'unix_timestamp']\n",
        "ratings = pd.read_csv('ml-100k/u.data', sep='\\t', names=r_cols, encoding='latin-1')\n",
        "\n",
        "# Load genres\n",
        "i_cols = ['movie_id', 'movie_title' ,'release date','video release date', 'IMDb URL', 'unknown', 'Action', 'Adventure',\n",
        " 'Animation', 'Children\\'s', 'Comedy', 'Crime', 'Documentary', 'Drama', 'Fantasy',\n",
        " 'Film-Noir', 'Horror', 'Musical', 'Mystery', 'Romance', 'Sci-Fi', 'Thriller', 'War', 'Western']\n",
        "items = pd.read_csv('ml-100k/u.item', sep='|', names=i_cols,\n",
        " encoding='latin-1')\n",
        "\n",
        "# Merge users and ratings on user_id\n",
        "movies_users_ratings = pd.merge(users, ratings, on='user_id')\n",
        "\n",
        "# Merge movies_users_ratings and items on movie_id\n",
        "items_merged = pd.merge(movies_users_ratings, items, on='movie_id')"
      ],
      "metadata": {
        "id": "-EL2TcZM1QTz"
      },
      "execution_count": null,
      "outputs": []
    },
    {
      "cell_type": "code",
      "source": [
        "from itertools import count\n",
        "import numpy as np\n",
        "\n",
        "# Genre columns\n",
        "genre_cols = ['unknown', 'Action', 'Adventure', 'Animation', 'Children\\'s', 'Comedy', 'Crime', 'Documentary', 'Drama',\n",
        "          'Fantasy','Film-Noir', 'Horror', 'Musical', 'Mystery', 'Romance', 'Sci-Fi', 'Thriller', 'War', 'Western']\n",
        "\n",
        "# Initialize numpy arrays\n",
        "gr = np.zeros(NO_OF_GENRES)\n",
        "gf = np.zeros(NO_OF_GENRES)\n",
        "rgr = np.zeros(NO_OF_GENRES)\n",
        "rgf = np.zeros(NO_OF_GENRES)\n",
        "mrgf = np.zeros(NO_OF_GENRES)\n",
        "\n",
        "# tr - total_ratings\n",
        "# gr - genre_rating\n",
        "# gf - genre_frequency\n",
        "# rgr - realtive_genre_ratings\n",
        "# rgf - relative_genre_frequency\n",
        "# mrgf - modified_relative_genre_frequency\n",
        "# gim - genre interestingness measure\n",
        "\n",
        "\n",
        "def total_rating(i):\n",
        "    \"\"\"Get total of given or particular rating.\"\"\"\n",
        "    total = 0\n",
        "    for k in count['rating']:\n",
        "        total = total + k\n",
        "    return total\n",
        "\n",
        "\n",
        "def genre_rating(movies):\n",
        "    \"\"\"Get genre rating for movies\"\"\"\n",
        "    for i in range(0, NO_OF_GENRES):\n",
        "        gr[i] = np.dot(movies['rating'], movies[genre_cols[i]])\n",
        "    return gr\n",
        "\n",
        "\n",
        "def genre_frequency(movies):\n",
        "    \"\"\"Get genre frequency for all the movies i.e. how many movies have a particular genre.\"\"\"\n",
        "    for i in range(0, NO_OF_GENRES):\n",
        "        gf[i] = movies[genre_cols[i]].sum()\n",
        "    return gf\n",
        "\n",
        "\n",
        "def relative_genre_rating(gr, tr):\n",
        "    \"\"\"Relative Genre Rating= Genre Ratings/ Total Rating\"\"\"\n",
        "    for i in range(0, NO_OF_GENRES):\n",
        "        rgr[i] = gr[i] / tr\n",
        "    return rgr\n",
        "\n",
        "\n",
        "def relative_genre_frequency(gf, tf):\n",
        "    \"\"\"Relative Genre Frequency=Genre Frequency/Total Frequency\"\"\"\n",
        "    for i in range(0, NO_OF_GENRES):\n",
        "        rgf[i] = gf[i] / tf\n",
        "    return rgf\n",
        "\n",
        "\n",
        "def add_for_mrgf(movies):\n",
        "    total = np.zeros(NO_OF_GENRES)\n",
        "    for i in range(0, NO_OF_GENRES):\n",
        "        m_t = movies.loc[movies[genre_cols[i]] == 1]\n",
        "        for j in m_t['rating']:\n",
        "            total[i] = total[i] + (j - 2)\n",
        "    return total\n",
        "\n",
        "\n",
        "def modified_relative_genre_frequency(movies, tf):\n",
        "    \"\"\"Modified Relative Genre Frequency = add_for_mrgf/(3*Total Frequency)\"\"\"\n",
        "    added = add_for_mrgf(movies)\n",
        "    for i in range(0, NO_OF_GENRES):\n",
        "        mrgf[i] = (added[i]) / (3.0 * tf)\n",
        "    return mrgf\n",
        "\n",
        "\n",
        "def gim_final(user_movies, i):\n",
        "    \"\"\"Get GIM of movies of particular user\"\"\"\n",
        "\n",
        "    gim_list = [0] * NO_OF_FEATURES\n",
        "    tf = user_movies.shape[0]\n",
        "    # print tf\n",
        "    tr = 0\n",
        "    for k in user_movies['rating']:\n",
        "        tr = tr + k\n",
        "    movies = user_movies.loc[user_movies['rating'] >= 3.0]\n",
        "\n",
        "    gr = genre_rating(movies)\n",
        "    # gf = genre_frequency(movies)\n",
        "    rgr = relative_genre_rating(gr, tr)\n",
        "    # rgf = relative_genre_frequency(gf, tf)\n",
        "    mrgf = modified_relative_genre_frequency(movies, tf)\n",
        "\n",
        "    nf = 5.0\n",
        "    for i in range(0, NO_OF_GENRES):\n",
        "        gim_list[i] = (2 * nf * mrgf[i] * rgr[i]) / (rgr[i] + mrgf[i])\n",
        "    gim_list = np.nan_to_num(gim_list)\n",
        "    return gim_list"
      ],
      "metadata": {
        "id": "x8KSWF-_1Wv5"
      },
      "execution_count": null,
      "outputs": []
    },
    {
      "cell_type": "code",
      "source": [
        "def cost_function(actual_ratings, predicted_ratings):\n",
        "    \"\"\"Cost function to optimize using genetic method.\"\"\"\n",
        "    ms = sum(abs(np.array(predicted_ratings) - np.array(actual_ratings)))\n",
        "    return ms / len(actual_ratings)"
      ],
      "metadata": {
        "id": "VwcB9jq4GYD4"
      },
      "execution_count": null,
      "outputs": []
    },
    {
      "cell_type": "code",
      "source": [
        "# Constants\n",
        "INITIAL_POPULATION=50\n",
        "MUTATION_RATE=0.05\n",
        "NUM_OF_GENERATIONS=50\n",
        "FEATURE_LENGTH=21\n",
        "WINNER_PER_GEN=5\n",
        "\n",
        "def genetic_optimize(actual_ratings, predicted_ratings):\n",
        "    \"\"\"Get genetic feature weights using crossover and mutation.\"\"\"\n",
        "\n",
        "    # Generate initial binary population\n",
        "    cur_gen_pop = np.random.randint(2, size=(INITIAL_POPULATION, FEATURE_LENGTH))\n",
        "    next_gen_pop = np.zeros((cur_gen_pop.shape[0], cur_gen_pop.shape[1]))\n",
        "    fitness_vector = np.zeros((INITIAL_POPULATION, 2))\n",
        "\n",
        "    for i in range(NUM_OF_GENERATIONS):\n",
        "\n",
        "        fitness_vector = np.array([np.array([x, cost_function(actual_ratings, predicted_ratings)]) for x in range(INITIAL_POPULATION)])\n",
        "        # e.g. [0, 0.11] means that the 0th element in cur_gen_pop (first solution) has an error of 0.11\n",
        "\n",
        "        # create a winners array of size winner*solution\n",
        "        winners = np.zeros((WINNER_PER_GEN, FEATURE_LENGTH))\n",
        "        for n in range(len(winners)):\n",
        "            selected = np.random.choice(range(len(fitness_vector)), int(WINNER_PER_GEN/2),\n",
        "                                        replace=False)  # select random indexes from pop\n",
        "\n",
        "            wnr = np.argmin(fitness_vector[selected, 1])  # select one index with min fitness error (tournament)\n",
        "            winners[n] = cur_gen_pop[int(fitness_vector[selected[wnr]][0])]  # add to winner population\n",
        "\n",
        "        next_gen_pop[:len(winners)] = winners  # populate new gen with winners\n",
        "\n",
        "        # mating using crossover via permutation\n",
        "        next_gen_pop[len(winners):] = np.array(\n",
        "            [np.array(\n",
        "                np.random.permutation(np.repeat(winners[:, x], ((INITIAL_POPULATION - len(winners)) / len(winners)), axis=0)))\n",
        "             for x in range(winners.shape[1])]).T  # Populate the rest of the generation with offspring of mating pairs\n",
        "\n",
        "        # random mutation\n",
        "        next_gen_pop = np.multiply(next_gen_pop, np.matrix(\n",
        "            [np.float(np.random.normal(0, 2, 1)) if np.random.random() < MUTATION_RATE else 1 for x in\n",
        "             range(next_gen_pop.size)]).reshape(next_gen_pop.shape))\n",
        "        cur_gen_pop = next_gen_pop\n",
        "\n",
        "    best_soln = np.array(cur_gen_pop[np.argmin(fitness_vector[:, 1])])\n",
        "    return best_soln"
      ],
      "metadata": {
        "id": "9lj6jJRq1hfu"
      },
      "execution_count": null,
      "outputs": []
    },
    {
      "cell_type": "code",
      "source": [
        "class Age:\n",
        "    \"\"\"Define methods to get fuzzy values of given age in three sets i.e. young, middle, and old.\"\"\"\n",
        "\n",
        "    def __int__(self):\n",
        "        pass\n",
        "\n",
        "    def young(self, age):\n",
        "        \"\"\"Get value for young fuzzy set for given age.\"\"\"\n",
        "        if age < 20.0:\n",
        "            return 1.0\n",
        "        elif 20.0 <= age < 35.0:\n",
        "            return float((35-age)/15.0)\n",
        "        else:\n",
        "            return 0.0\n",
        "\n",
        "    def middle(self, age):\n",
        "        \"\"\"Get value for middle fuzzy set for given age.\"\"\"\n",
        "        if age <= 20 or age > 60:\n",
        "            return 0.0\n",
        "        elif 20 < age <= 35:\n",
        "            return float(age-20)/15\n",
        "        elif 35 < age <= 45:\n",
        "            return 1.0\n",
        "        elif 45 < age <= 60:\n",
        "            return (60-age)/15.0\n",
        "\n",
        "    def old(self, age):\n",
        "        \"\"\"get value for old fuzzy set for given age.\"\"\"\n",
        "        if age <= 45:\n",
        "            return 0.0\n",
        "        elif 45 < age <= 60:\n",
        "            return (age-45.0)/15\n",
        "        else:\n",
        "            return 1.0\n",
        "\n",
        "    def get_fuzzy_set(self, age):\n",
        "        \"\"\"Get fuzzy set values of given age.\"\"\"\n",
        "        return [self.young(age),\n",
        "                self.middle(age),\n",
        "                self.old(age)]\n",
        "\n",
        "class GIM:\n",
        "    \"\"\"GIM- Genre Interestingness Measure\"\"\"\n",
        "\n",
        "    def __init__(self):\n",
        "        pass\n",
        "\n",
        "    def gim_a(self, gim, i):\n",
        "        \"\"\"Method to get fuzzy set value for very_bad, bad, average, good.\"\"\"\n",
        "        if gim <= i - 2 or gim > i:\n",
        "            return 0.0\n",
        "        elif i - 2 < gim <= i - 1:\n",
        "            return gim - i + 2.0\n",
        "        elif i - 1 < gim <= i:\n",
        "            return float(i - gim)\n",
        "\n",
        "    def very_bad(self, gim):\n",
        "        if gim <= 1.0:\n",
        "            return 1.0\n",
        "        else:\n",
        "            return 0.0\n",
        "\n",
        "    def bad(self, gim):\n",
        "        return self.gim_a(gim, 2.0)\n",
        "\n",
        "    def average(self, gim):\n",
        "        return self.gim_a(gim, 3.0)\n",
        "\n",
        "    def good(self, gim):\n",
        "        return self.gim_a(gim, 4.0)\n",
        "\n",
        "    def very_good(self, gim):\n",
        "        return self.gim_a(gim, 5.0)\n",
        "\n",
        "    def excellent(self, gim):\n",
        "        if gim <=4.0:\n",
        "            return 0.0\n",
        "        else:\n",
        "            return (gim-4.0)\n",
        "\n",
        "    def get_fuzzy_set(self, gim_value):\n",
        "        \"\"\"Get fuzzy set of gim(list of values) based on given gim value.\"\"\"\n",
        "        return [self.very_bad(gim_value),\n",
        "                self.bad(gim_value),\n",
        "                self.average(gim_value),\n",
        "                self.good(gim_value),\n",
        "                self.very_good(gim_value),\n",
        "                self.excellent(gim_value)]"
      ],
      "metadata": {
        "id": "TxlJOYuC3p80"
      },
      "execution_count": null,
      "outputs": []
    },
    {
      "cell_type": "code",
      "execution_count": null,
      "metadata": {
        "id": "gdue7xOm064S"
      },
      "outputs": [],
      "source": [
        "import warnings\n",
        "warnings.filterwarnings('ignore')\n",
        "import operator\n",
        "\n",
        "# Constants\n",
        "WEIGHTS=np.random.rand(NO_OF_FEATURES)\n",
        "NO_OF_ITERATIONS=10\n",
        "NO_OF_NEIGHBOURS=20\n",
        "\n",
        "# namespace items_merged from load_data file\n",
        "# items_merged = load_data.items_merged\n",
        "\n",
        "# Create objects for Age and GIM to use for fuzzy sets\n",
        "age = Age()\n",
        "gim_obj = GIM()\n",
        "\n",
        "m_cols = ['unknown', 'Action', 'Adventure',\n",
        "          'Animation', 'Children\\'s', 'Comedy', 'Crime', 'Documentary', 'Drama', 'Fantasy',\n",
        "          'Film-Noir', 'Horror', 'Musical', 'Mystery', 'Romance', 'Sci-Fi', 'Thriller', 'War', 'Western', 'age',\n",
        "          'user_id']\n",
        "\n",
        "# Initialize empty dataFrames for active and passive users\n",
        "model_data_active_users = pd.DataFrame(columns=m_cols)\n",
        "model_data_passive_users = pd.DataFrame(columns=m_cols)\n",
        "\n",
        "\n",
        "def euclidean_dist(list_a, list_b):\n",
        "    \"\"\"Return the Euclidean distance between two array elements.\"\"\"\n",
        "    return np.linalg.norm(np.array(list_a) - np.array(list_b))\n",
        "\n",
        "\n",
        "def fuzzy_dist(first_point, second_point, fuzzy_set_first_point, fuzzy_set_second_point):\n",
        "    \"\"\"Returns fuzzy distance between two values and their fuzzy sets.\"\"\"\n",
        "    return abs(first_point - second_point) * euclidean_dist(fuzzy_set_first_point, fuzzy_set_second_point)\n",
        "\n",
        "\n",
        "def fuzzy_distance(ui, uj):\n",
        "    \"\"\"Returns fuzzy distance between given points.\"\"\"\n",
        "\n",
        "    fuzzy_dis = [0] * NO_OF_FEATURES\n",
        "\n",
        "    # Get fuzzy set values for movie genres\n",
        "    for i in range(0, NO_OF_GENRES):\n",
        "        ui_gim = gim_obj.get_fuzzy_set(ui[i])\n",
        "        uj_gim = gim_obj.get_fuzzy_set(uj[i])\n",
        "        fuzzy_dis[i] = fuzzy_dist(ui[i], uj[i], ui_gim, uj_gim)\n",
        "\n",
        "    # Get fuzzy set values for age\n",
        "    ui_gim = age.get_fuzzy_set(ui[i])\n",
        "    uj_gim = age.get_fuzzy_set(uj[i])\n",
        "    fuzzy_dis[i] = fuzzy_dist(ui[i], uj[i], ui_gim, uj_gim)\n",
        "\n",
        "    # adding user_id of second user\n",
        "    fuzzy_dis[NO_OF_FEATURES-1] = uj['user_id']\n",
        "    return fuzzy_dis\n",
        "\n",
        "\n",
        "def get_neighbours(model_active_users, model_passive_users):\n",
        "\n",
        "    # Save active users and its neighbours in a data-frame with active users' id as column name\n",
        "    user_neighbours= pd.DataFrame(columns=model_active_users['user_id'])\n",
        "\n",
        "    # Iterate over active users model and save neighbours of each active users in user_neighbours\n",
        "    for _, value in model_active_users.iterrows():\n",
        "        j = 0\n",
        "        fuzzy_vec = []\n",
        "        for _, value_p in model_passive_users.iterrows():\n",
        "            fuzzy_vec.append(fuzzy_distance(value, value_p))\n",
        "\n",
        "            fuzzy_gen_dist = np.sum(np.multiply(WEIGHTS[:-1], np.array(fuzzy_vec[j][:-1]))) ** 0.5\n",
        "\n",
        "            fuzzy_vec[j] = [fuzzy_gen_dist, fuzzy_vec[j][-1]]\n",
        "\n",
        "            j = j + 1\n",
        "\n",
        "        user_neighbours[value[-1]] = [n[1] for n in sorted(fuzzy_vec, key=operator.itemgetter(0), reverse=True)][:NO_OF_NEIGHBOURS]\n",
        "    return user_neighbours\n",
        "\n",
        "\n",
        "def model_for_users(users_data):\n",
        "    \"\"\"Create model for given users data i.e. merged movies, items, and users\n",
        "\n",
        "    Args:\n",
        "        users_data: DataFrame of merged movies, items, and users based on movie_id\n",
        "    \"\"\"\n",
        "\n",
        "    i = 0\n",
        "    model_data_for_users = pd.DataFrame(columns=m_cols)\n",
        "\n",
        "    for _, curr_value in users_data.iterrows():\n",
        "\n",
        "        # Get user movies based on user\n",
        "        user_movies = items_merged.loc[items_merged['user_id'] == curr_value['user_id']]\n",
        "\n",
        "        # Get feature list for all movies of one user\n",
        "        feature_array = gim_final(user_movies, curr_value['user_id'])\n",
        "        feature_array[NO_OF_GENRES] = curr_value['age']\n",
        "        feature_array[NO_OF_GENRES + 1] = curr_value['user_id']\n",
        "\n",
        "        # Save current feature values in model data\n",
        "        model_data_for_users.loc[i] = feature_array\n",
        "        i = i + 1\n",
        "    return model_data_for_users\n",
        "\n",
        "\n",
        "def recommend(nearest_neighbours, test_users_data):\n",
        "    \"\"\"Recommend rating for given movies i.e. test_examples based on nearest neighbours.\n",
        "\n",
        "    Also return actual and predicated ratings for testing users\n",
        "    \"\"\"\n",
        "    predicated_rat=[]\n",
        "    actual_rat = []\n",
        "    for key, item in test_users_data.iterrows():\n",
        "        m_id = item['movie_id']\n",
        "        n_ratings = []\n",
        "        for i in nearest_neighbours:\n",
        "\n",
        "            # Get items or movie details reviewed by neighbour i with given m_id\n",
        "            temp = items_merged.loc[items_merged['user_id'] == i].loc[items_merged['movie_id'] == m_id]\n",
        "            for k, it in temp.iterrows():\n",
        "                n_ratings.append(it['rating'])\n",
        "        predicated_rat.append(float(sum(n_ratings)) / len(n_ratings) if len(n_ratings) else 0)\n",
        "        actual_rat.append(item['rating'])\n",
        "    return actual_rat, predicated_rat\n",
        "\n",
        "# Users who has rated movies at least 60 movies\n",
        "top_users = items_merged.groupby('user_id').size().sort_values(ascending=False)[:497]\n",
        "\n",
        "model_error_GA = []"
      ]
    },
    {
      "cell_type": "code",
      "source": [
        "# Train model for given iterations\n",
        "for i in range(0, NO_OF_ITERATIONS):\n",
        "\n",
        "    # Get random 10% of the top_users as active users and remaining are passive users\n",
        "    active_users = top_users.sample(frac=0.10)\n",
        "\n",
        "    # Random 34% of active users will be used for training and 66% users for testing purpose.\n",
        "    training_active_users = active_users.sample(frac=0.34)\n",
        "    #testing_active_users = active_users.drop(training_active_users.index)\n",
        "\n",
        "    # passive_users will be used as training examples\n",
        "    passive_users = top_users.drop(active_users.index)\n",
        "\n",
        "    # Get active and passive users' data from merged movies, items, and users\n",
        "    training_active_users_data = items_merged.loc[items_merged['user_id'].isin(training_active_users)][:10]\n",
        "    test_active_users_data = items_merged.loc[items_merged['user_id'].isin(training_active_users)][10:]\n",
        "    passive_users_data = items_merged.loc[items_merged['user_id'].isin(passive_users)][:10]\n",
        "\n",
        "    # Get model for active users\n",
        "    model_data_active_users = model_for_users(training_active_users_data)\n",
        "\n",
        "    # Get model for passive users\n",
        "    model_data_passive_users = model_for_users(passive_users_data)\n",
        "\n",
        "    # Get neighbour users of active users\n",
        "    active_users_neighbours = get_neighbours(model_data_active_users, model_data_passive_users)\n",
        "\n",
        "    # Recommend users based on neighbours\n",
        "    actual_ratings, predicated_ratings=recommend(active_users_neighbours, test_active_users_data)\n",
        "\n",
        "    # Get error for predictions of test users\n",
        "    cur_error = cost_function(actual_ratings, predicated_ratings)\n",
        "\n",
        "    # Optimize weights using genetic algorithm approach and update weighs\n",
        "    WEIGHTS = genetic_optimize(actual_ratings, predicated_ratings).flatten()\n",
        "\n",
        "    # Add current iteration error to model error for MAE of the model\n",
        "    model_error_GA.append(cost_function(actual_ratings, predicated_ratings))\n",
        "\n",
        "    # Log details for current iteration\n",
        "    print(\"Iteration : \", i)\n",
        "    print(\"Error: \", cur_error)\n",
        "    #print('Weights after iteration is: ', WEIGHTS)\n",
        "\n",
        "MAE_GA = sum(model_error_GA)/len(model_error_GA)\n",
        "print(\"Mean absolute error for GA: \", MAE_GA)"
      ],
      "metadata": {
        "id": "YLa-cALwHG7A",
        "colab": {
          "base_uri": "https://localhost:8080/"
        },
        "outputId": "ff36d375-8b0e-4962-dffc-62d64d76f59f"
      },
      "execution_count": null,
      "outputs": [
        {
          "output_type": "stream",
          "name": "stdout",
          "text": [
            "Iteration :  0\n",
            "Error:  0.7651045012335335\n",
            "Iteration :  1\n",
            "Error:  0.7997048515034124\n",
            "Iteration :  2\n",
            "Error:  0.8195176294561547\n",
            "Iteration :  3\n",
            "Error:  0.606257477865518\n",
            "Iteration :  4\n",
            "Error:  0.9554628687051492\n",
            "Iteration :  5\n",
            "Error:  0.7933189087600848\n",
            "Iteration :  6\n",
            "Error:  0.9882224570880541\n",
            "Iteration :  7\n",
            "Error:  0.7705399592483584\n",
            "Iteration :  8\n",
            "Error:  0.8121113758532181\n",
            "Iteration :  9\n",
            "Error:  0.8800027793218461\n",
            "Mean absolute error for GA:  0.7879107514690673\n"
          ]
        }
      ]
    },
    {
      "cell_type": "markdown",
      "source": [
        "**PSO**"
      ],
      "metadata": {
        "id": "6q-b5SfdGuE4"
      }
    },
    {
      "cell_type": "code",
      "source": [
        "def PSO(num_particles=30, max_iter=100, w=0.5, c1=1, c2=2):\n",
        "\n",
        "    #finalizing the dimension of solution space\n",
        "    dim = FEATURE_LENGTH\n",
        "\n",
        "    # Initialize particles and velocities\n",
        "    particles = np.random.uniform(0, 1, (30, 21))\n",
        "    velocities = np.zeros((30, 21))\n",
        "\n",
        "    # Initialize the best positions and fitness values\n",
        "    best_positions = np.copy(particles)\n",
        "    best_fitness = np.array([cost_function(actual_ratings, predicted_ratings) for p in (particles)])\n",
        "    swarm_best_position = best_positions[np.argmin(best_fitness)]\n",
        "    swarm_best_fitness = np.min(best_fitness)\n",
        "\n",
        "    # Iterate through the specified number of iterations, updating the velocity and position of each particle at each iteration\n",
        "    for i in range(int(max_iter[0])):\n",
        "        # Update velocities\n",
        "        r1 = np.random.uniform(0, 1, (30, 21))\n",
        "        r2 = np.random.uniform(0, 1, (30, 21))\n",
        "        velocities = w * velocities + c1 * r1 * (best_positions - particles) + c2 * r2 * (swarm_best_position - particles)\n",
        "\n",
        "        # Update positions\n",
        "        particles += velocities\n",
        "\n",
        "        # Evaluate fitness of each particle\n",
        "        fitness_values = np.array([cost_function(actual_ratings, predicted_ratings) for p in (particles)])\n",
        "\n",
        "        # Update best positions and fitness values\n",
        "        improved_indices = np.where(fitness_values < best_fitness)\n",
        "        best_positions[improved_indices] = particles[improved_indices]\n",
        "        best_fitness[improved_indices] = fitness_values[improved_indices]\n",
        "        if np.min(fitness_values) < swarm_best_fitness:\n",
        "            swarm_best_position = particles[np.argmin(fitness_values)]\n",
        "            swarm_best_fitness = np.min(fitness_values)\n",
        "\n",
        "    # Return the best solution found by the PSO algorithm\n",
        "    return swarm_best_position, swarm_best_fitness\n",
        "\n",
        "model_error_PSO = []"
      ],
      "metadata": {
        "id": "mtlYvpdOGprj"
      },
      "execution_count": null,
      "outputs": []
    },
    {
      "cell_type": "code",
      "source": [
        "# Train model for given iterations\n",
        "for i in range(0, NO_OF_ITERATIONS):\n",
        "\n",
        "    # Get random 10% of the top_users as active users and remaining are passive users\n",
        "    active_users = top_users.sample(frac=0.10)\n",
        "\n",
        "    # Random 34% of active users will be used for training and 66% users for testing purpose.\n",
        "    training_active_users = active_users.sample(frac=0.34)\n",
        "    #testing_active_users = active_users.drop(training_active_users.index)\n",
        "\n",
        "    # passive_users will be used as training examples\n",
        "    passive_users = top_users.drop(active_users.index)\n",
        "\n",
        "    # Get active and passive users' data from merged movies, items, and users\n",
        "    training_active_users_data = items_merged.loc[items_merged['user_id'].isin(training_active_users)][:10]\n",
        "    test_active_users_data = items_merged.loc[items_merged['user_id'].isin(training_active_users)][10:]\n",
        "    passive_users_data = items_merged.loc[items_merged['user_id'].isin(passive_users)][:10]\n",
        "\n",
        "    # Get model for active users\n",
        "    model_data_active_users = model_for_users(training_active_users_data)\n",
        "\n",
        "    # Get model for passive users\n",
        "    model_data_passive_users = model_for_users(passive_users_data)\n",
        "\n",
        "    # Get neighbour users of active users\n",
        "    active_users_neighbours = get_neighbours(model_data_active_users, model_data_passive_users)\n",
        "\n",
        "    # Recommend users based on neighbours\n",
        "    actual_ratings, predicted_ratings=recommend(active_users_neighbours, test_active_users_data)\n",
        "\n",
        "    # Get error for predictions of test users\n",
        "    cur_error = cost_function(actual_ratings, predicted_ratings)\n",
        "\n",
        "    # Optimize weights using genetic algorithm approach and update weighs\n",
        "    WEIGHTS, cost_func = PSO(actual_ratings, predicted_ratings)\n",
        "\n",
        "    # Add current iteration error to model error for MAE of the model\n",
        "    model_error_PSO.append(cost_function(actual_ratings, predicted_ratings))\n",
        "\n",
        "    # Log details for current iteration\n",
        "    print(\"Iteration : \", i)\n",
        "    print(\"Error: \", cur_error)\n",
        "    #print('Weights after iteration is: ', WEIGHTS)\n",
        "\n",
        "MAE_PSO = sum(model_error_PSO)/len(model_error_PSO)\n",
        "print(\"Mean absolute error for PSO: \", MAE_PSO)"
      ],
      "metadata": {
        "id": "qe89SaLKGyB0",
        "colab": {
          "base_uri": "https://localhost:8080/"
        },
        "outputId": "6fcf0df5-fd3f-4ad7-ae8c-12020877b945"
      },
      "execution_count": null,
      "outputs": [
        {
          "output_type": "stream",
          "name": "stdout",
          "text": [
            "Iteration :  0\n",
            "Error:  1.438655666945141\n",
            "Iteration :  1\n",
            "Error:  0.8250369604523156\n",
            "Iteration :  2\n",
            "Error:  0.7674710808922695\n",
            "Iteration :  3\n",
            "Error:  0.9847383875425176\n",
            "Iteration :  4\n",
            "Error:  0.5874242546117551\n",
            "Iteration :  5\n",
            "Error:  0.8807395864749837\n",
            "Iteration :  6\n",
            "Error:  0.9465469998142305\n",
            "Iteration :  7\n",
            "Error:  0.824535812267294\n",
            "Iteration :  8\n",
            "Error:  0.8026479597687027\n",
            "Iteration :  9\n",
            "Error:  0.8495640374177156\n",
            "Mean absolute error for PSO:  0.8752089964635309\n"
          ]
        }
      ]
    },
    {
      "cell_type": "code",
      "source": [
        "import matplotlib.pyplot as plt\n",
        "import numpy as np\n",
        "\n",
        "# Sample data (replace with your actual data)\n",
        "mae_values = [mae_knn, MAE_KDI, MAE_GA, MAE_PSO]\n",
        "rmse_values = [rmse_knn, RSME_KDI]  # Add other RMSE values if available\n",
        "algorithms = ['KNN', 'K-Densest KNN', 'Genetic Algorithm', 'Particle Swarm Optimization']\n",
        "\n",
        "# Set a custom color palette for better visibility\n",
        "colors = ['#1f77b4', '#2ca02c', '#ff7f0e', '#d62728']\n",
        "\n",
        "# Set a larger font size for better readability\n",
        "plt.rcParams.update({'font.size': 12})\n",
        "\n",
        "# Plotting MAE and RMSE\n",
        "fig, axes = plt.subplots(nrows=1, ncols=2, figsize=(14, 6))\n",
        "\n",
        "# Plotting MAE\n",
        "axes[0].bar(algorithms, mae_values, color=colors)\n",
        "axes[0].set_title('Mean Absolute Error (MAE)')\n",
        "axes[0].set_ylabel('MAE Value')\n",
        "axes[0].set_ylim(0, max(mae_values) + 1)  # Adjust the y-axis limit if needed\n",
        "axes[0].grid(axis='y', linestyle='--', alpha=0.7)\n",
        "\n",
        "# Plotting RMSE\n",
        "axes[1].bar(algorithms[:len(rmse_values)], rmse_values, color=colors)\n",
        "axes[1].set_title('Root Mean Squared Error (RMSE)')\n",
        "axes[1].set_ylabel('RMSE Value')\n",
        "axes[1].set_ylim(0, max(rmse_values) + 1)  # Adjust the y-axis limit if needed\n",
        "axes[1].grid(axis='y', linestyle='--', alpha=0.7)\n",
        "\n",
        "# Adjust layout for better spacing\n",
        "plt.tight_layout()\n",
        "\n",
        "# Show the plot\n",
        "plt.show()\n"
      ],
      "metadata": {
        "colab": {
          "base_uri": "https://localhost:8080/",
          "height": 506
        },
        "id": "pczmJXF_RAn0",
        "outputId": "c4f635c8-381b-4de4-d089-1dfdecb6844e"
      },
      "execution_count": null,
      "outputs": [
        {
          "output_type": "display_data",
          "data": {
            "text/plain": [
              "<Figure size 1400x600 with 2 Axes>"
            ],
            "image/png": "[encoded data removed]"
          },
          "metadata": {}
        }
      ]
    }
  ]
}